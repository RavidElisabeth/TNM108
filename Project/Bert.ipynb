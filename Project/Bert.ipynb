{
 "cells": [
  {
   "cell_type": "code",
   "execution_count": 25,
   "id": "99e5e035-ea1b-4278-bc78-c3d596dee962",
   "metadata": {},
   "outputs": [],
   "source": [
    "#pip install -q transformers"
   ]
  },
  {
   "cell_type": "code",
   "execution_count": 26,
   "id": "d9ce3785-2e5b-4efe-b62a-d346771612f1",
   "metadata": {},
   "outputs": [],
   "source": [
    "import sklearn\n",
    "from sklearn.datasets import load_files\n",
    "import pandas as pd\n",
    "import nltk\n",
    "from nltk.sentiment.vader import SentimentIntensityAnalyzer\n",
    "import zipfile\n",
    "import re\n",
    "from transformers import pipeline\n",
    "from transformers import AutoModelForSequenceClassification\n",
    "from transformers import TFAutoModelForSequenceClassification\n",
    "from transformers import AutoTokenizer, AutoConfig\n",
    "import numpy as np\n",
    "from scipy.special import softmax"
   ]
  },
  {
   "cell_type": "code",
   "execution_count": 27,
   "id": "17183d15-b748-4dae-a32e-b6eb69c25b4c",
   "metadata": {},
   "outputs": [
    {
     "name": "stdout",
     "output_type": "stream",
     "text": [
      "<class 'pandas.core.frame.DataFrame'>\n",
      "Index: 397629 entries, 162840 to 92778\n",
      "Data columns (total 34 columns):\n",
      " #   Column                         Non-Null Count   Dtype  \n",
      "---  ------                         --------------   -----  \n",
      " 0   text                           397629 non-null  object \n",
      " 1   created_at                     397629 non-null  object \n",
      " 2   geo                            2564 non-null    object \n",
      " 3   lang                           397629 non-null  object \n",
      " 4   place                          30832 non-null   object \n",
      " 5   coordinates                    2564 non-null    object \n",
      " 6   user.favourites_count          397629 non-null  int64  \n",
      " 7   user.statuses_count            397629 non-null  int64  \n",
      " 8   user.description               353403 non-null  object \n",
      " 9   user.location                  302677 non-null  object \n",
      " 10  user.id                        397629 non-null  int64  \n",
      " 11  user.created_at                397629 non-null  object \n",
      " 12  user.verified                  397629 non-null  bool   \n",
      " 13  user.following                 397629 non-null  bool   \n",
      " 14  user.url                       172193 non-null  object \n",
      " 15  user.listed_count              397629 non-null  int64  \n",
      " 16  user.followers_count           397629 non-null  int64  \n",
      " 17  user.default_profile_image     397629 non-null  bool   \n",
      " 18  user.utc_offset                273213 non-null  float64\n",
      " 19  user.friends_count             397629 non-null  int64  \n",
      " 20  user.default_profile           397629 non-null  bool   \n",
      " 21  user.name                      397614 non-null  object \n",
      " 22  user.lang                      397629 non-null  object \n",
      " 23  user.screen_name               397629 non-null  object \n",
      " 24  user.geo_enabled               397629 non-null  bool   \n",
      " 25  user.profile_background_color  397629 non-null  object \n",
      " 26  user.profile_image_url         397629 non-null  object \n",
      " 27  user.time_zone                 273213 non-null  object \n",
      " 28  id                             397629 non-null  int64  \n",
      " 29  favorite_count                 397629 non-null  int64  \n",
      " 30  retweeted                      397629 non-null  bool   \n",
      " 31  source                         397629 non-null  object \n",
      " 32  favorited                      397629 non-null  bool   \n",
      " 33  retweet_count                  397629 non-null  int64  \n",
      "dtypes: bool(7), float64(1), int64(9), object(17)\n",
      "memory usage: 87.6+ MB\n"
     ]
    }
   ],
   "source": [
    "# Load the CSV file\n",
    "file_path = 'election_day_tweets_data/election_day_tweets.csv' \n",
    "elections_2016 = pd.read_csv(file_path)\n",
    "\n",
    "elections_2016.sort_values(by='created_at').info()\n"
   ]
  },
  {
   "cell_type": "code",
   "execution_count": 28,
   "id": "15114eae-79eb-4d76-849c-08f9c56921b5",
   "metadata": {},
   "outputs": [],
   "source": [
    "# Function to clean text\n",
    "def clean_text(text):\n",
    "    if isinstance(text, str):  # Ensure input is a string\n",
    "        # Remove special characters, numbers, and extra whitespace\n",
    "        # Remove mentions\n",
    "        text = re.sub(r\"@\\w+\", \"\", text)\n",
    "        # Remove hashtags (but keep the words if desired)\n",
    "        text = re.sub(r\"#\", \"\", text)  # Remove only the '#' symbol\n",
    "        text = re.sub(r'[^a-zA-Z\\s]', '', text)  # Keep only letters and spaces\n",
    "        text = re.sub(r'\\s+', ' ', text)        # Replace multiple spaces with a single space\n",
    "        text = text.strip()                     # Remove leading/trailing spaces\n",
    "    return text"
   ]
  },
  {
   "cell_type": "code",
   "execution_count": null,
   "id": "89c4e2c7-dc8f-445d-ad54-8360bafbe275",
   "metadata": {},
   "outputs": [],
   "source": [
    "# Preprocess text (username and link placeholders)\n",
    "def preprocess(text):\n",
    "    new_text = []\n",
    "    for t in text.split(\" \"):\n",
    "        #t = '@user' if t.startswith('@') and len(t) > 1 else t\n",
    "        t = re.sub(r\"#\", \"\", t)\n",
    "        t = re.sub(r\"#\", \"\", t)  # Remove only the '#' symbol\n",
    "        t = 'http' if t.startswith('http') else t\n",
    "        new_text.append(t)\n",
    "    return \" \".join(new_text)"
   ]
  },
  {
   "cell_type": "code",
   "execution_count": 30,
   "id": "f1f88837-83f0-4bae-97ae-93bfaacb5ce8",
   "metadata": {},
   "outputs": [
    {
     "name": "stdout",
     "output_type": "stream",
     "text": [
      "0      .@lawrence @hillaryclinton two first  @senschumer tomorrow. @thelastword #brooklyn  therealamerica #vote #democrats #nastywomenvote #senate\n",
      "1    my @latimesopinion op-ed on historic #california #senate race. first time an elected woman senator succeeds another.\\nhttps://t.co/cbjqtk0q1v\n",
      "2                                        #senate wisconsin senate preview: johnson vs. feingold, the sequel https://t.co/xhq4p0v4el @senronjohnson\n",
      "3           if rubio wins and #trump loses in #florida... #hillaryclinton #senate #republicanprimary #senaterace #miami... https://t.co/zienecvnmo\n",
      "4                                #senate wisconsin senate preview: johnson vs. feingold, the sequel https://t.co/vsd6arfme5 senronjohnson nta•news\n",
      "Name: text, dtype: object\n",
      "                                                                                                                        cleaned_text\n",
      "0                    .@lawrence @user two first  @user tomorrow. @user brooklyn  therealamerica vote democrats nastywomenvote senate\n",
      "1  my @user op-ed on historic california senate race. first time an elected woman senator succeeds another.\\nhttps://t.co/cbjqtk0q1v\n",
      "2                                                       senate wisconsin senate preview: johnson vs. feingold, the sequel http @user\n",
      "3                       if rubio wins and trump loses in florida... hillaryclinton senate republicanprimary senaterace miami... http\n",
      "4                                      senate wisconsin senate preview: johnson vs. feingold, the sequel http senronjohnson nta•news\n",
      "Example Hillary Tweets:\n",
      "                                                                                                                              cleaned_text\n",
      "26                                              even if hillary wins, nothing will change unless the democrats take back the senate. vote!\n",
      "46                         agree, the after effect may humble gop even more if @user can take the senate . hillary has shown she can… http\n",
      "57  politico says democrats are on the brink of taking back the senate! let's make it happen.! voteblue!! hillary senate house state local\n",
      "60                                                                        senate franken hits the road for clinton in minnesota http @user\n",
      "62                                                           senate franken hits the road for clinton in minnesota http alfranken nta•news\n",
      "\n",
      "Example Trump Tweets:\n",
      "                                                                                                          cleaned_text\n",
      "3         if rubio wins and trump loses in florida... hillaryclinton senate republicanprimary senaterace miami... http\n",
      "22  its election day 2016 est. vote clintonkaine2016 senate democrats bluewave2016 forwardtogether lovetrumpshate http\n",
      "59                                                senate sessions stumps for trump, rises on national stage http @user\n",
      "61                             senate sessions stumps for trump, rises on national stage http senatorsessions nta•news\n",
      "74        wakeupamerica,trump2016,veterans,hialeah,miami,makeamericagreatagain,tcot,maga,senate,nyt,cuba,brexit,… http\n"
     ]
    }
   ],
   "source": [
    "elections_2016['text'] = elections_2016['text'].str.lower()  # Convert to lowercase\n",
    "print(elections_2016['text'].head())\n",
    "# Apply the cleaning function to the 'text' column\n",
    "elections_2016['cleaned_text'] = elections_2016['text'].apply(preprocess)\n",
    "print(elections_2016[['cleaned_text']].head())\n",
    "# Define specific words to search for\n",
    "specific_words = ['hillary', 'clinton']\n",
    "\n",
    "# Combine the words into a single regular expression pattern\n",
    "pattern = '|'.join(rf'\\b{word}\\b' for word in specific_words)  # Matches whole words only\n",
    "\n",
    "# Filter rows where the cleaned text contains any of the specific words\n",
    "trump_tweets = elections_2016[elections_2016['cleaned_text'].str.contains('trump', case=False, na=False)].copy()\n",
    "hillary_tweets = elections_2016[elections_2016['cleaned_text'].str.contains(pattern, flags=re.IGNORECASE, na=False)].copy()\n",
    "\n",
    "\n",
    "# Save the filtered results\n",
    "#filtered_elections_2016.to_csv('filtered_words2.csv', index=False)\n",
    "\n",
    "# Display example Hillary Tweets\n",
    "print(\"Example Hillary Tweets:\")\n",
    "print(hillary_tweets[['cleaned_text']].head())  # Show the first 5 tweets related to Hillary\n",
    "\n",
    "# Display example Trump Tweets\n",
    "print(\"\\nExample Trump Tweets:\")\n",
    "print(trump_tweets[['cleaned_text']].head())  # Show the first 5 tweets related to Trump\n"
   ]
  },
  {
   "cell_type": "code",
   "execution_count": 31,
   "id": "eb283747-aaa4-4207-98b4-da823e384683",
   "metadata": {},
   "outputs": [
    {
     "name": "stderr",
     "output_type": "stream",
     "text": [
      "Some weights of the model checkpoint at cardiffnlp/twitter-roberta-base-sentiment-latest were not used when initializing RobertaForSequenceClassification: ['roberta.pooler.dense.bias', 'roberta.pooler.dense.weight']\n",
      "- This IS expected if you are initializing RobertaForSequenceClassification from the checkpoint of a model trained on another task or with another architecture (e.g. initializing a BertForSequenceClassification model from a BertForPreTraining model).\n",
      "- This IS NOT expected if you are initializing RobertaForSequenceClassification from the checkpoint of a model that you expect to be exactly identical (initializing a BertForSequenceClassification model from a BertForSequenceClassification model).\n"
     ]
    }
   ],
   "source": [
    "MODEL = f\"cardiffnlp/twitter-roberta-base-sentiment-latest\"\n",
    "tokenizer = AutoTokenizer.from_pretrained(MODEL)\n",
    "config = AutoConfig.from_pretrained(MODEL)\n",
    "# PT\n",
    "model = AutoModelForSequenceClassification.from_pretrained(MODEL)\n",
    "#model.save_pretrained(MODEL)"
   ]
  },
  {
   "cell_type": "code",
   "execution_count": 32,
   "id": "14aa5a86-f427-4f6e-b47e-cfe8402db5ce",
   "metadata": {},
   "outputs": [],
   "source": [
    "def compute_sentiment(text):\n",
    "    if not isinstance(text, str) or text.strip() ==\"\":\n",
    "        return None\n",
    "    encoded_input = tokenizer(text, return_tensors='pt')\n",
    "    output = model(**encoded_input)\n",
    "    scores = output[0][0].detach().numpy()\n",
    "    scores = softmax(scores)\n",
    "    # Assign labels to scores\n",
    "    sentiment = {\n",
    "        \"negative\": scores[0],\n",
    "        \"neutral\": scores[1],\n",
    "        \"positive\": scores[2],\n",
    "    }\n",
    "    return sentiment"
   ]
  },
  {
   "cell_type": "code",
   "execution_count": 33,
   "id": "1ff1a040",
   "metadata": {},
   "outputs": [
    {
     "name": "stdout",
     "output_type": "stream",
     "text": [
      "\n",
      "Example Hillary Tweets with Sentiment:\n",
      "                                                                                                                                         cleaned_text  \\\n",
      "251224                                                                  election2016 votehillary walks in like beyoncé \"where's hillary's name \" http   \n",
      "186751     obama telling people to vote 4 hillary because she's a girl is not a good enough reason, it actually goes against feminism... election2016   \n",
      "361864                                                 election2016 america votes: now a nation decides between hillary clinton and donald trump http   \n",
      "39386    same ppl saying hillary gonna win are now the same ones saying if trump wins congress won't let him do anything! clearly we can't doubt him!   \n",
      "61649     understanding that trump has to go through congress but just the fact he wants to do those things also not saying hillary is any better lol   \n",
      "260708                                                                                                                      hillary 🙌🏻🙌🏻 election2016   \n",
      "155572                                                          electionnight hillary clinton imwithher giant 8ft banner sign  blm dnc uniteblue http   \n",
      "190773                           imvotingbecause i prefer donald trump over hillary realdonaldtrump hillaryclinton http donaldtrump election2016 laz…   \n",
      "164412  electoralcollegegroup election2016 most most uncertain about me 2nd dist., fl, nc &amp; nv. yet if trump wins those, clinton wins 272 to 268.   \n",
      "204135                                                                                  i will name my first son clinton,if hillary wins election2016   \n",
      "\n",
      "                                                                        sentiment  \n",
      "251224   {'negative': 0.100722305, 'neutral': 0.82757306, 'positive': 0.07170471}  \n",
      "186751    {'negative': 0.8584632, 'neutral': 0.13373245, 'positive': 0.007804262}  \n",
      "361864     {'negative': 0.029926414, 'neutral': 0.9389467, 'positive': 0.0311269}  \n",
      "39386      {'negative': 0.29444498, 'neutral': 0.5700037, 'positive': 0.13555135}  \n",
      "61649     {'negative': 0.27385873, 'neutral': 0.6602098, 'positive': 0.065931514}  \n",
      "260708   {'negative': 0.009976754, 'neutral': 0.10396778, 'positive': 0.88605547}  \n",
      "155572  {'negative': 0.015111517, 'neutral': 0.88530713, 'positive': 0.099581346}  \n",
      "190773    {'negative': 0.117361836, 'neutral': 0.68880665, 'positive': 0.1938315}  \n",
      "164412      {'negative': 0.13901633, 'neutral': 0.7781169, 'positive': 0.0828668}  \n",
      "204135    {'negative': 0.032786686, 'neutral': 0.7569289, 'positive': 0.21028437}  \n",
      "\n",
      "Example Trump Tweets with Sentiment:\n",
      "                                                                                                                                         cleaned_text  \\\n",
      "79660        although trump will be president come jan2017 laws are still passed by congress and have to go through the house and senate doyaresearch   \n",
      "203951                                   election2016 donaldtrump trump imvotingbecause uselections2016 greenday mtg emas hillaryclinton clinton http   \n",
      "271144                                         i am canadian and i cant imagine hearing on the news \"we give you president donald trump\" election2016   \n",
      "202125                                                  polls after dixvillenotch:\\nclinton 50%\\ntrump 25%\\njohnson 12,5%\\nromney 12,5%\\nelection2016   \n",
      "227311         hillary win won't be surprise  election2016 cause that's the setup. people around world defeating setup. can americans do it too trump   \n",
      "207340  very scared and nervous about this election2016 please vote in hillary !! trump is so dangerous &amp; does not care about anyone but himself!   \n",
      "119685                                  @user @user i was a democrat until hillary clinton and i wore red &amp; voted trump/pence because i bel… http   \n",
      "215883                                                                         we are leaving it in your hands americans\\ntrumpmustwin\\n election2016   \n",
      "267876                                                                                                                         fucktrump election2016   \n",
      "291915       election2016 con hillary será un día memorable. con trump será un cambio total. sé lo peligroso pero me gana el morbo de ver cómo sería.   \n",
      "\n",
      "                                                                        sentiment  \n",
      "79660     {'negative': 0.07302315, 'neutral': 0.88990265, 'positive': 0.03707417}  \n",
      "203951  {'negative': 0.049733907, 'neutral': 0.90485454, 'positive': 0.045411516}  \n",
      "271144    {'negative': 0.8268414, 'neutral': 0.16155964, 'positive': 0.011598939}  \n",
      "202125      {'negative': 0.1562609, 'neutral': 0.7653994, 'positive': 0.07833975}  \n",
      "227311     {'negative': 0.16383061, 'neutral': 0.6181084, 'positive': 0.21806097}  \n",
      "207340   {'negative': 0.91615367, 'neutral': 0.07415141, 'positive': 0.009694892}  \n",
      "119685   {'negative': 0.21553098, 'neutral': 0.72659105, 'positive': 0.057877988}  \n",
      "215883     {'negative': 0.09760379, 'neutral': 0.6330071, 'positive': 0.26938912}  \n",
      "267876   {'negative': 0.90858686, 'neutral': 0.07666704, 'positive': 0.014746104}  \n",
      "291915   {'negative': 0.049338922, 'neutral': 0.67822844, 'positive': 0.27243268}  \n"
     ]
    }
   ],
   "source": [
    "trump_tweets_sample = trump_tweets.sample(10)  # Random 10 samples\n",
    "hillary_tweets_sample = hillary_tweets.sample(10)\n",
    "trump_tweets_sample['sentiment'] = trump_tweets_sample['cleaned_text'].apply(compute_sentiment)\n",
    "hillary_tweets_sample['sentiment'] = hillary_tweets_sample['cleaned_text'].apply(compute_sentiment)\n",
    "\n",
    "# Ensure full text is displayed\n",
    "pd.set_option('display.max_colwidth', None)\n",
    "\n",
    "print(\"\\nExample Hillary Tweets with Sentiment:\")\n",
    "print(hillary_tweets_sample[['cleaned_text', 'sentiment']].head(10))\n",
    "print(\"\\nExample Trump Tweets with Sentiment:\")\n",
    "print(trump_tweets_sample[['cleaned_text', 'sentiment']].head(10))\n"
   ]
  },
  {
   "cell_type": "code",
   "execution_count": 34,
   "id": "02a14553",
   "metadata": {},
   "outputs": [
    {
     "name": "stdout",
     "output_type": "stream",
     "text": [
      "check out  speech here\n",
      "[]\n"
     ]
    }
   ],
   "source": [
    "import re\n",
    "import spacy\n",
    "\n",
    "# Load Spacy model\n",
    "nlp = spacy.load(\"en_core_web_sm\")\n",
    "\n",
    "# Function to preprocess\n",
    "def preprocess_tweet(tweet):\n",
    "    # Remove URLs, mentions, hashtags\n",
    "    tweet = re.sub(r\"http\\S+|@\\S+|#\\S+\", \"\", tweet)\n",
    "    tweet = re.sub(r\"[^a-zA-Z\\s]\", \"\", tweet)  # Remove non-alphanumeric\n",
    "    tweet = tweet.lower().strip()\n",
    "    return tweet\n",
    "\n",
    "# Example\n",
    "tweet = \"Check out @HillaryClinton's speech here: https://example.com #Election2016\"\n",
    "clean_tweet = preprocess_tweet(tweet)\n",
    "print(clean_tweet)\n",
    "\n",
    "# Named Entity Recognition to find entities\n",
    "doc = nlp(clean_tweet)\n",
    "entities = [ent.text for ent in doc.ents]\n",
    "print(entities)\n"
   ]
  },
  {
   "cell_type": "code",
   "execution_count": 35,
   "id": "3132ed06",
   "metadata": {},
   "outputs": [],
   "source": [
    "# Extract the dependency parse for \"Trump\"\n",
    "for token in doc:\n",
    "    if token.text.lower() == \"trump\":\n",
    "        print(f\"Token: {token.text}, Head: {token.head.text}, Children: {[child.text for child in token.children]}\")\n"
   ]
  },
  {
   "cell_type": "code",
   "execution_count": 42,
   "id": "71297e16",
   "metadata": {},
   "outputs": [
    {
     "name": "stdout",
     "output_type": "stream",
     "text": [
      "{'sequence': 'I Love Clinton. I hate Trump', 'labels': ['positive', 'negative', 'neutral'], 'scores': [0.6290384531021118, 0.24697545170783997, 0.1239861473441124]}\n"
     ]
    }
   ],
   "source": [
    "from transformers import pipeline\n",
    "\n",
    "# Load a zero-shot classification pipeline\n",
    "classifier = pipeline(\"zero-shot-classification\", model=\"facebook/bart-large-mnli\")\n",
    "\n",
    "# Define candidate labels\n",
    "labels = [\"positive\", \"neutral\", \"negative\"]\n",
    "\n",
    "# Example tweet with target entity\n",
    "tweet = \"I Love Clinton. I hate Trump\"\n",
    "result = classifier(tweet, candidate_labels=labels)\n",
    "\n",
    "print(result)\n",
    "# Output: {'sequence': ..., 'labels': ['positive', 'neutral', 'negative'], 'scores': [0.7, 0.2, 0.1]}\n"
   ]
  },
  {
   "cell_type": "code",
   "execution_count": 43,
   "id": "a90b10cf",
   "metadata": {},
   "outputs": [
    {
     "name": "stdout",
     "output_type": "stream",
     "text": [
      "I Love Clinton. I hate Trump\n",
      "sentiment  negative  neutral  positive\n",
      "entity                                \n",
      "Clinton           1        0         0\n",
      "Trump             0        1         1\n"
     ]
    }
   ],
   "source": [
    "import pandas as pd\n",
    "\n",
    "print(tweet)\n",
    "# Example data\n",
    "data = {\"entity\": [\"Trump\", \"Clinton\", \"Trump\"], \"sentiment\": [\"positive\", \"negative\", \"neutral\"]}\n",
    "df = pd.DataFrame(data)\n",
    "\n",
    "# Aggregate sentiment counts\n",
    "sentiment_summary = df.groupby(\"entity\")[\"sentiment\"].value_counts().unstack(fill_value=0)\n",
    "print(sentiment_summary)\n"
   ]
  },
  {
   "cell_type": "code",
   "execution_count": 38,
   "id": "d29e634d",
   "metadata": {},
   "outputs": [
    {
     "name": "stdout",
     "output_type": "stream",
     "text": [
      "\n",
      "Example Hillary Tweets with Sentiment:\n"
     ]
    },
    {
     "ename": "KeyError",
     "evalue": "\"['sentiment'] not in index\"",
     "output_type": "error",
     "traceback": [
      "\u001b[1;31m---------------------------------------------------------------------------\u001b[0m",
      "\u001b[1;31mKeyError\u001b[0m                                  Traceback (most recent call last)",
      "Cell \u001b[1;32mIn[38], line 5\u001b[0m\n\u001b[0;32m      1\u001b[0m \u001b[38;5;66;03m#trump_tweets['sentiment'] = trump_tweets['cleaned_text'].apply(compute_sentiment)\u001b[39;00m\n\u001b[0;32m      2\u001b[0m \u001b[38;5;66;03m#hillary_tweets['sentiment'] = hillary_tweets['cleaned_text'].apply(compute_sentiment)\u001b[39;00m\n\u001b[0;32m      4\u001b[0m \u001b[38;5;28mprint\u001b[39m(\u001b[38;5;124m\"\u001b[39m\u001b[38;5;130;01m\\n\u001b[39;00m\u001b[38;5;124mExample Hillary Tweets with Sentiment:\u001b[39m\u001b[38;5;124m\"\u001b[39m)\n\u001b[1;32m----> 5\u001b[0m \u001b[38;5;28mprint\u001b[39m(\u001b[43mhillary_tweets\u001b[49m\u001b[43m[\u001b[49m\u001b[43m[\u001b[49m\u001b[38;5;124;43m'\u001b[39;49m\u001b[38;5;124;43mcleaned_text\u001b[39;49m\u001b[38;5;124;43m'\u001b[39;49m\u001b[43m,\u001b[49m\u001b[43m \u001b[49m\u001b[38;5;124;43m'\u001b[39;49m\u001b[38;5;124;43msentiment\u001b[39;49m\u001b[38;5;124;43m'\u001b[39;49m\u001b[43m]\u001b[49m\u001b[43m]\u001b[49m\u001b[38;5;241m.\u001b[39mhead())\n\u001b[0;32m      6\u001b[0m \u001b[38;5;28mprint\u001b[39m(\u001b[38;5;124m\"\u001b[39m\u001b[38;5;130;01m\\n\u001b[39;00m\u001b[38;5;124mExample Trump Tweets with Sentiment:\u001b[39m\u001b[38;5;124m\"\u001b[39m)\n\u001b[0;32m      7\u001b[0m \u001b[38;5;28mprint\u001b[39m(trump_tweets[[\u001b[38;5;124m'\u001b[39m\u001b[38;5;124mcleaned_text\u001b[39m\u001b[38;5;124m'\u001b[39m, \u001b[38;5;124m'\u001b[39m\u001b[38;5;124msentiment\u001b[39m\u001b[38;5;124m'\u001b[39m]]\u001b[38;5;241m.\u001b[39mhead())\n",
      "File \u001b[1;32mc:\\Users\\david\\Documents\\GitHub\\TNM108\\Project\\venv\\lib\\site-packages\\pandas\\core\\frame.py:4108\u001b[0m, in \u001b[0;36mDataFrame.__getitem__\u001b[1;34m(self, key)\u001b[0m\n\u001b[0;32m   4106\u001b[0m     \u001b[38;5;28;01mif\u001b[39;00m is_iterator(key):\n\u001b[0;32m   4107\u001b[0m         key \u001b[38;5;241m=\u001b[39m \u001b[38;5;28mlist\u001b[39m(key)\n\u001b[1;32m-> 4108\u001b[0m     indexer \u001b[38;5;241m=\u001b[39m \u001b[38;5;28;43mself\u001b[39;49m\u001b[38;5;241;43m.\u001b[39;49m\u001b[43mcolumns\u001b[49m\u001b[38;5;241;43m.\u001b[39;49m\u001b[43m_get_indexer_strict\u001b[49m\u001b[43m(\u001b[49m\u001b[43mkey\u001b[49m\u001b[43m,\u001b[49m\u001b[43m \u001b[49m\u001b[38;5;124;43m\"\u001b[39;49m\u001b[38;5;124;43mcolumns\u001b[39;49m\u001b[38;5;124;43m\"\u001b[39;49m\u001b[43m)\u001b[49m[\u001b[38;5;241m1\u001b[39m]\n\u001b[0;32m   4110\u001b[0m \u001b[38;5;66;03m# take() does not accept boolean indexers\u001b[39;00m\n\u001b[0;32m   4111\u001b[0m \u001b[38;5;28;01mif\u001b[39;00m \u001b[38;5;28mgetattr\u001b[39m(indexer, \u001b[38;5;124m\"\u001b[39m\u001b[38;5;124mdtype\u001b[39m\u001b[38;5;124m\"\u001b[39m, \u001b[38;5;28;01mNone\u001b[39;00m) \u001b[38;5;241m==\u001b[39m \u001b[38;5;28mbool\u001b[39m:\n",
      "File \u001b[1;32mc:\\Users\\david\\Documents\\GitHub\\TNM108\\Project\\venv\\lib\\site-packages\\pandas\\core\\indexes\\base.py:6200\u001b[0m, in \u001b[0;36mIndex._get_indexer_strict\u001b[1;34m(self, key, axis_name)\u001b[0m\n\u001b[0;32m   6197\u001b[0m \u001b[38;5;28;01melse\u001b[39;00m:\n\u001b[0;32m   6198\u001b[0m     keyarr, indexer, new_indexer \u001b[38;5;241m=\u001b[39m \u001b[38;5;28mself\u001b[39m\u001b[38;5;241m.\u001b[39m_reindex_non_unique(keyarr)\n\u001b[1;32m-> 6200\u001b[0m \u001b[38;5;28;43mself\u001b[39;49m\u001b[38;5;241;43m.\u001b[39;49m\u001b[43m_raise_if_missing\u001b[49m\u001b[43m(\u001b[49m\u001b[43mkeyarr\u001b[49m\u001b[43m,\u001b[49m\u001b[43m \u001b[49m\u001b[43mindexer\u001b[49m\u001b[43m,\u001b[49m\u001b[43m \u001b[49m\u001b[43maxis_name\u001b[49m\u001b[43m)\u001b[49m\n\u001b[0;32m   6202\u001b[0m keyarr \u001b[38;5;241m=\u001b[39m \u001b[38;5;28mself\u001b[39m\u001b[38;5;241m.\u001b[39mtake(indexer)\n\u001b[0;32m   6203\u001b[0m \u001b[38;5;28;01mif\u001b[39;00m \u001b[38;5;28misinstance\u001b[39m(key, Index):\n\u001b[0;32m   6204\u001b[0m     \u001b[38;5;66;03m# GH 42790 - Preserve name from an Index\u001b[39;00m\n",
      "File \u001b[1;32mc:\\Users\\david\\Documents\\GitHub\\TNM108\\Project\\venv\\lib\\site-packages\\pandas\\core\\indexes\\base.py:6252\u001b[0m, in \u001b[0;36mIndex._raise_if_missing\u001b[1;34m(self, key, indexer, axis_name)\u001b[0m\n\u001b[0;32m   6249\u001b[0m     \u001b[38;5;28;01mraise\u001b[39;00m \u001b[38;5;167;01mKeyError\u001b[39;00m(\u001b[38;5;124mf\u001b[39m\u001b[38;5;124m\"\u001b[39m\u001b[38;5;124mNone of [\u001b[39m\u001b[38;5;132;01m{\u001b[39;00mkey\u001b[38;5;132;01m}\u001b[39;00m\u001b[38;5;124m] are in the [\u001b[39m\u001b[38;5;132;01m{\u001b[39;00maxis_name\u001b[38;5;132;01m}\u001b[39;00m\u001b[38;5;124m]\u001b[39m\u001b[38;5;124m\"\u001b[39m)\n\u001b[0;32m   6251\u001b[0m not_found \u001b[38;5;241m=\u001b[39m \u001b[38;5;28mlist\u001b[39m(ensure_index(key)[missing_mask\u001b[38;5;241m.\u001b[39mnonzero()[\u001b[38;5;241m0\u001b[39m]]\u001b[38;5;241m.\u001b[39munique())\n\u001b[1;32m-> 6252\u001b[0m \u001b[38;5;28;01mraise\u001b[39;00m \u001b[38;5;167;01mKeyError\u001b[39;00m(\u001b[38;5;124mf\u001b[39m\u001b[38;5;124m\"\u001b[39m\u001b[38;5;132;01m{\u001b[39;00mnot_found\u001b[38;5;132;01m}\u001b[39;00m\u001b[38;5;124m not in index\u001b[39m\u001b[38;5;124m\"\u001b[39m)\n",
      "\u001b[1;31mKeyError\u001b[0m: \"['sentiment'] not in index\""
     ]
    }
   ],
   "source": [
    "#trump_tweets['sentiment'] = trump_tweets['cleaned_text'].apply(compute_sentiment)\n",
    "#hillary_tweets['sentiment'] = hillary_tweets['cleaned_text'].apply(compute_sentiment)\n",
    "\n",
    "print(\"\\nExample Hillary Tweets with Sentiment:\")\n",
    "print(hillary_tweets[['cleaned_text', 'sentiment']].head())\n",
    "print(\"\\nExample Trump Tweets with Sentiment:\")\n",
    "print(trump_tweets[['cleaned_text', 'sentiment']].head())\n"
   ]
  },
  {
   "cell_type": "code",
   "execution_count": null,
   "id": "9fab94a5-d1ee-458a-aaef-06f9b716ac0b",
   "metadata": {},
   "outputs": [],
   "source": [
    "encoded_input = tokenizer(elections_2016['cleaned_text'], return_tensors='pt')\n",
    "output = model(**encoded_input)\n",
    "scores = output[0][0].detach().numpy()\n",
    "scores = softmax(scores)"
   ]
  }
 ],
 "metadata": {
  "kernelspec": {
   "display_name": "venv",
   "language": "python",
   "name": "python3"
  },
  "language_info": {
   "codemirror_mode": {
    "name": "ipython",
    "version": 3
   },
   "file_extension": ".py",
   "mimetype": "text/x-python",
   "name": "python",
   "nbconvert_exporter": "python",
   "pygments_lexer": "ipython3",
   "version": "3.10.0"
  }
 },
 "nbformat": 4,
 "nbformat_minor": 5
}
