{
 "cells": [
  {
   "cell_type": "code",
   "execution_count": 1,
   "id": "99e5e035-ea1b-4278-bc78-c3d596dee962",
   "metadata": {},
   "outputs": [
    {
     "name": "stdout",
     "output_type": "stream",
     "text": [
      "Note: you may need to restart the kernel to use updated packages.\n"
     ]
    }
   ],
   "source": [
    "pip install -q transformers"
   ]
  },
  {
   "cell_type": "code",
   "execution_count": 2,
   "id": "d9ce3785-2e5b-4efe-b62a-d346771612f1",
   "metadata": {},
   "outputs": [],
   "source": [
    "import sklearn\n",
    "from sklearn.datasets import load_files\n",
    "import pandas as pd\n",
    "import nltk\n",
    "from nltk.sentiment.vader import SentimentIntensityAnalyzer\n",
    "import zipfile\n",
    "import re\n",
    "from transformers import pipeline\n",
    "from transformers import AutoModelForSequenceClassification\n",
    "from transformers import TFAutoModelForSequenceClassification\n",
    "from transformers import AutoTokenizer, AutoConfig\n",
    "import numpy as np\n",
    "from scipy.special import softmax"
   ]
  },
  {
   "cell_type": "code",
   "execution_count": 3,
   "id": "17183d15-b748-4dae-a32e-b6eb69c25b4c",
   "metadata": {},
   "outputs": [
    {
     "name": "stdout",
     "output_type": "stream",
     "text": [
      "<class 'pandas.core.frame.DataFrame'>\n",
      "Index: 397629 entries, 162840 to 92778\n",
      "Data columns (total 34 columns):\n",
      " #   Column                         Non-Null Count   Dtype  \n",
      "---  ------                         --------------   -----  \n",
      " 0   text                           397629 non-null  object \n",
      " 1   created_at                     397629 non-null  object \n",
      " 2   geo                            2564 non-null    object \n",
      " 3   lang                           397629 non-null  object \n",
      " 4   place                          30832 non-null   object \n",
      " 5   coordinates                    2564 non-null    object \n",
      " 6   user.favourites_count          397629 non-null  int64  \n",
      " 7   user.statuses_count            397629 non-null  int64  \n",
      " 8   user.description               353403 non-null  object \n",
      " 9   user.location                  302677 non-null  object \n",
      " 10  user.id                        397629 non-null  int64  \n",
      " 11  user.created_at                397629 non-null  object \n",
      " 12  user.verified                  397629 non-null  bool   \n",
      " 13  user.following                 397629 non-null  bool   \n",
      " 14  user.url                       172193 non-null  object \n",
      " 15  user.listed_count              397629 non-null  int64  \n",
      " 16  user.followers_count           397629 non-null  int64  \n",
      " 17  user.default_profile_image     397629 non-null  bool   \n",
      " 18  user.utc_offset                273213 non-null  float64\n",
      " 19  user.friends_count             397629 non-null  int64  \n",
      " 20  user.default_profile           397629 non-null  bool   \n",
      " 21  user.name                      397614 non-null  object \n",
      " 22  user.lang                      397629 non-null  object \n",
      " 23  user.screen_name               397629 non-null  object \n",
      " 24  user.geo_enabled               397629 non-null  bool   \n",
      " 25  user.profile_background_color  397629 non-null  object \n",
      " 26  user.profile_image_url         397629 non-null  object \n",
      " 27  user.time_zone                 273213 non-null  object \n",
      " 28  id                             397629 non-null  int64  \n",
      " 29  favorite_count                 397629 non-null  int64  \n",
      " 30  retweeted                      397629 non-null  bool   \n",
      " 31  source                         397629 non-null  object \n",
      " 32  favorited                      397629 non-null  bool   \n",
      " 33  retweet_count                  397629 non-null  int64  \n",
      "dtypes: bool(7), float64(1), int64(9), object(17)\n",
      "memory usage: 87.6+ MB\n"
     ]
    }
   ],
   "source": [
    "# Load the CSV file\n",
    "file_path = 'election_day_tweets_data/election_day_tweets.csv' \n",
    "elections_2016 = pd.read_csv(file_path)\n",
    "\n",
    "elections_2016.sort_values(by='created_at').info()\n"
   ]
  },
  {
   "cell_type": "code",
   "execution_count": 4,
   "id": "15114eae-79eb-4d76-849c-08f9c56921b5",
   "metadata": {},
   "outputs": [],
   "source": [
    "# Function to clean text\n",
    "def clean_text(text):\n",
    "    if isinstance(text, str):  # Ensure input is a string\n",
    "        # Remove special characters, numbers, and extra whitespace\n",
    "        # Remove mentions\n",
    "        text = re.sub(r\"@\\w+\", \"\", text)\n",
    "        # Remove hashtags (but keep the words if desired)\n",
    "        text = re.sub(r\"#\", \"\", text)  # Remove only the '#' symbol\n",
    "        text = re.sub(r'[^a-zA-Z\\s]', '', text)  # Keep only letters and spaces\n",
    "        text = re.sub(r'\\s+', ' ', text)        # Replace multiple spaces with a single space\n",
    "        text = text.strip()                     # Remove leading/trailing spaces\n",
    "    return text"
   ]
  },
  {
   "cell_type": "code",
   "execution_count": 6,
   "id": "89c4e2c7-dc8f-445d-ad54-8360bafbe275",
   "metadata": {},
   "outputs": [],
   "source": [
    "# Preprocess text (username and link placeholders)\n",
    "def preprocess(text):\n",
    "    new_text = []\n",
    "    for t in text.split(\" \"):\n",
    "        t = '@user' if t.startswith('@') and len(t) > 1 else t\n",
    "        t = 'http' if t.startswith('http') else t\n",
    "        new_text.append(t)\n",
    "    return \" \".join(new_text)"
   ]
  },
  {
   "cell_type": "code",
   "execution_count": 8,
   "id": "f1f88837-83f0-4bae-97ae-93bfaacb5ce8",
   "metadata": {},
   "outputs": [
    {
     "name": "stdout",
     "output_type": "stream",
     "text": [
      "0    .@lawrence @hillaryclinton two first  @senschu...\n",
      "1    my @latimesopinion op-ed on historic #californ...\n",
      "2    #senate wisconsin senate preview: johnson vs. ...\n",
      "3    if rubio wins and #trump loses in #florida... ...\n",
      "4    #senate wisconsin senate preview: johnson vs. ...\n",
      "Name: text, dtype: object\n",
      "                                        cleaned_text\n",
      "0  .@lawrence @user two first  @user tomorrow. @u...\n",
      "1  my @user op-ed on historic #california #senate...\n",
      "2  #senate wisconsin senate preview: johnson vs. ...\n",
      "3  if rubio wins and #trump loses in #florida... ...\n",
      "4  #senate wisconsin senate preview: johnson vs. ...\n",
      "Example Hillary Tweets:\n",
      "                                         cleaned_text\n",
      "26  even if #hillary wins, nothing will change unl...\n",
      "46  agree, the after effect may humble gop even mo...\n",
      "57  politico says democrats are on the brink of ta...\n",
      "60  #senate franken hits the road for clinton in m...\n",
      "62  #senate franken hits the road for clinton in m...\n",
      "\n",
      "Example Trump Tweets:\n",
      "                                         cleaned_text\n",
      "3   if rubio wins and #trump loses in #florida... ...\n",
      "22  its election day 2016 est. vote #clintonkaine2...\n",
      "59  #senate sessions stumps for trump, rises on na...\n",
      "61  #senate sessions stumps for trump, rises on na...\n",
      "74  #wakeupamerica,#trump2016,#veterans,#hialeah,#...\n"
     ]
    }
   ],
   "source": [
    "elections_2016['text'] = elections_2016['text'].str.lower()  # Convert to lowercase\n",
    "print(elections_2016['text'].head())\n",
    "# Apply the cleaning function to the 'text' column\n",
    "elections_2016['cleaned_text'] = elections_2016['text'].apply(preprocess)\n",
    "print(elections_2016[['cleaned_text']].head())\n",
    "# Define specific words to search for\n",
    "specific_words = ['hillary', 'clinton']\n",
    "\n",
    "# Combine the words into a single regular expression pattern\n",
    "pattern = '|'.join(rf'\\b{word}\\b' for word in specific_words)  # Matches whole words only\n",
    "\n",
    "# Filter rows where the cleaned text contains any of the specific words\n",
    "trump_tweets = elections_2016[elections_2016['cleaned_text'].str.contains('trump', case=False, na=False)].copy()\n",
    "hillary_tweets = elections_2016[elections_2016['cleaned_text'].str.contains(pattern, flags=re.IGNORECASE, na=False)].copy()\n",
    "\n",
    "\n",
    "# Save the filtered results\n",
    "#filtered_elections_2016.to_csv('filtered_words2.csv', index=False)\n",
    "\n",
    "# Display example Hillary Tweets\n",
    "print(\"Example Hillary Tweets:\")\n",
    "print(hillary_tweets[['cleaned_text']].head())  # Show the first 5 tweets related to Hillary\n",
    "\n",
    "# Display example Trump Tweets\n",
    "print(\"\\nExample Trump Tweets:\")\n",
    "print(trump_tweets[['cleaned_text']].head())  # Show the first 5 tweets related to Trump\n"
   ]
  },
  {
   "cell_type": "code",
   "execution_count": 9,
   "id": "eb283747-aaa4-4207-98b4-da823e384683",
   "metadata": {},
   "outputs": [
    {
     "name": "stderr",
     "output_type": "stream",
     "text": [
      "Some weights of the model checkpoint at cardiffnlp/twitter-roberta-base-sentiment-latest were not used when initializing RobertaForSequenceClassification: ['roberta.pooler.dense.bias', 'roberta.pooler.dense.weight']\n",
      "- This IS expected if you are initializing RobertaForSequenceClassification from the checkpoint of a model trained on another task or with another architecture (e.g. initializing a BertForSequenceClassification model from a BertForPreTraining model).\n",
      "- This IS NOT expected if you are initializing RobertaForSequenceClassification from the checkpoint of a model that you expect to be exactly identical (initializing a BertForSequenceClassification model from a BertForSequenceClassification model).\n"
     ]
    }
   ],
   "source": [
    "MODEL = f\"cardiffnlp/twitter-roberta-base-sentiment-latest\"\n",
    "tokenizer = AutoTokenizer.from_pretrained(MODEL)\n",
    "config = AutoConfig.from_pretrained(MODEL)\n",
    "# PT\n",
    "model = AutoModelForSequenceClassification.from_pretrained(MODEL)\n",
    "#model.save_pretrained(MODEL)"
   ]
  },
  {
   "cell_type": "code",
   "execution_count": 11,
   "id": "14aa5a86-f427-4f6e-b47e-cfe8402db5ce",
   "metadata": {},
   "outputs": [],
   "source": [
    "def compute_sentiment(text):\n",
    "    if not isinstance(text, str) or text.strip() ==\"\":\n",
    "        return None\n",
    "    encoded_input = tokenizer(text, return_tensors='pt')\n",
    "    output = model(**encoded_input)\n",
    "    scores = output[0][0].detach().numpy()\n",
    "    scores = softmax(scores)\n",
    "    # Assign labels to scores\n",
    "    sentiment = {\n",
    "        \"negative\": scores[0],\n",
    "        \"neutral\": scores[1],\n",
    "        \"positive\": scores[2],\n",
    "    }\n",
    "    return sentiment"
   ]
  },
  {
   "cell_type": "code",
   "execution_count": null,
   "id": "d29e634d",
   "metadata": {},
   "outputs": [],
   "source": [
    "trump_tweets['sentiment'] = trump_tweets['cleaned_text'].apply(compute_sentiment)\n",
    "hillary_tweets['sentiment'] = hillary_tweets['cleaned_text'].apply(compute_sentiment)\n",
    "\n",
    "print(\"\\nExample Hillary Tweets with Sentiment:\")\n",
    "print(hillary_tweets[['cleaned_text', 'sentiment']].head())\n",
    "print(\"\\nExample Trump Tweets with Sentiment:\")\n",
    "print(trump_tweets[['cleaned_text', 'sentiment']].head())\n"
   ]
  },
  {
   "cell_type": "code",
   "execution_count": null,
   "id": "9fab94a5-d1ee-458a-aaef-06f9b716ac0b",
   "metadata": {},
   "outputs": [],
   "source": [
    "encoded_input = tokenizer(elections_2016['cleaned_text'], return_tensors='pt')\n",
    "output = model(**encoded_input)\n",
    "scores = output[0][0].detach().numpy()\n",
    "scores = softmax(scores)"
   ]
  }
 ],
 "metadata": {
  "kernelspec": {
   "display_name": "venv",
   "language": "python",
   "name": "python3"
  },
  "language_info": {
   "codemirror_mode": {
    "name": "ipython",
    "version": 3
   },
   "file_extension": ".py",
   "mimetype": "text/x-python",
   "name": "python",
   "nbconvert_exporter": "python",
   "pygments_lexer": "ipython3",
   "version": "3.10.0"
  }
 },
 "nbformat": 4,
 "nbformat_minor": 5
}
