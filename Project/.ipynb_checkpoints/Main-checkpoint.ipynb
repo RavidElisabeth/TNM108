{
 "cells": [
  {
   "cell_type": "code",
   "execution_count": 77,
   "id": "d9ce3785-2e5b-4efe-b62a-d346771612f1",
   "metadata": {},
   "outputs": [],
   "source": [
    "import sklearn\n",
    "from sklearn.datasets import load_files\n",
    "import pandas as pd\n",
    "import nltk\n",
    "from nltk.sentiment.vader import SentimentIntensityAnalyzer\n",
    "import zipfile\n",
    "import re"
   ]
  },
  {
   "cell_type": "code",
   "execution_count": 78,
   "id": "3ee825bd-e33b-43d4-bc9b-0300ceecf116",
   "metadata": {},
   "outputs": [
    {
     "name": "stderr",
     "output_type": "stream",
     "text": [
      "[nltk_data] Downloading package vader_lexicon to\n",
      "[nltk_data]     C:\\Users\\david\\AppData\\Roaming\\nltk_data...\n",
      "[nltk_data]   Package vader_lexicon is already up-to-date!\n"
     ]
    }
   ],
   "source": [
    "# Download VADER's required data\n",
    "nltk.download('vader_lexicon')\n",
    "\n",
    "# Initialize the VADER sentiment analyzer\n",
    "analyzer = SentimentIntensityAnalyzer()"
   ]
  },
  {
   "cell_type": "code",
   "execution_count": 79,
   "id": "1f766831-7cab-41bb-9dc6-f6faa803c3c8",
   "metadata": {},
   "outputs": [
    {
     "name": "stdout",
     "output_type": "stream",
     "text": [
      "Text: I love this product, it's amazing!\n",
      "Scores: {'neg': 0.0, 'neu': 0.266, 'pos': 0.734, 'compound': 0.8516}\n",
      "Text: This is terrible, I hate it.\n",
      "Scores: {'neg': 0.694, 'neu': 0.306, 'pos': 0.0, 'compound': -0.7783}\n",
      "Text: Meh, it was okay but not great.\n",
      "Scores: {'neg': 0.506, 'neu': 0.362, 'pos': 0.131, 'compound': -0.6299}\n"
     ]
    }
   ],
   "source": [
    "# Example sentences\n",
    "texts = [\n",
    "    \"I love this product, it's amazing!\",\n",
    "    \"This is terrible, I hate it.\",\n",
    "    \"Meh, it was okay but not great.\"\n",
    "]\n",
    "\n",
    "# Analyze each text\n",
    "for text in texts:\n",
    "    scores = analyzer.polarity_scores(text)\n",
    "    print(f\"Text: {text}\")\n",
    "    print(f\"Scores: {scores}\")"
   ]
  },
  {
   "cell_type": "code",
   "execution_count": 80,
   "id": "17183d15-b748-4dae-a32e-b6eb69c25b4c",
   "metadata": {},
   "outputs": [
    {
     "name": "stdout",
     "output_type": "stream",
     "text": [
      "<class 'pandas.core.frame.DataFrame'>\n",
      "Index: 397629 entries, 162840 to 92778\n",
      "Data columns (total 34 columns):\n",
      " #   Column                         Non-Null Count   Dtype  \n",
      "---  ------                         --------------   -----  \n",
      " 0   text                           397629 non-null  object \n",
      " 1   created_at                     397629 non-null  object \n",
      " 2   geo                            2564 non-null    object \n",
      " 3   lang                           397629 non-null  object \n",
      " 4   place                          30832 non-null   object \n",
      " 5   coordinates                    2564 non-null    object \n",
      " 6   user.favourites_count          397629 non-null  int64  \n",
      " 7   user.statuses_count            397629 non-null  int64  \n",
      " 8   user.description               353403 non-null  object \n",
      " 9   user.location                  302677 non-null  object \n",
      " 10  user.id                        397629 non-null  int64  \n",
      " 11  user.created_at                397629 non-null  object \n",
      " 12  user.verified                  397629 non-null  bool   \n",
      " 13  user.following                 397629 non-null  bool   \n",
      " 14  user.url                       172193 non-null  object \n",
      " 15  user.listed_count              397629 non-null  int64  \n",
      " 16  user.followers_count           397629 non-null  int64  \n",
      " 17  user.default_profile_image     397629 non-null  bool   \n",
      " 18  user.utc_offset                273213 non-null  float64\n",
      " 19  user.friends_count             397629 non-null  int64  \n",
      " 20  user.default_profile           397629 non-null  bool   \n",
      " 21  user.name                      397614 non-null  object \n",
      " 22  user.lang                      397629 non-null  object \n",
      " 23  user.screen_name               397629 non-null  object \n",
      " 24  user.geo_enabled               397629 non-null  bool   \n",
      " 25  user.profile_background_color  397629 non-null  object \n",
      " 26  user.profile_image_url         397629 non-null  object \n",
      " 27  user.time_zone                 273213 non-null  object \n",
      " 28  id                             397629 non-null  int64  \n",
      " 29  favorite_count                 397629 non-null  int64  \n",
      " 30  retweeted                      397629 non-null  bool   \n",
      " 31  source                         397629 non-null  object \n",
      " 32  favorited                      397629 non-null  bool   \n",
      " 33  retweet_count                  397629 non-null  int64  \n",
      "dtypes: bool(7), float64(1), int64(9), object(17)\n",
      "memory usage: 87.6+ MB\n"
     ]
    }
   ],
   "source": [
    "# Load the CSV file\n",
    "file_path = 'election_day_tweets_data/election_day_tweets.csv'  # Replace with the actual file name\n",
    "elections_2016 = pd.read_csv(file_path)\n",
    "\n",
    "elections_2016.sort_values(by='created_at').info()\n"
   ]
  },
  {
   "cell_type": "code",
   "execution_count": 103,
   "id": "15114eae-79eb-4d76-849c-08f9c56921b5",
   "metadata": {},
   "outputs": [],
   "source": [
    "# Function to clean text\n",
    "def clean_text(text):\n",
    "    if isinstance(text, str):  # Ensure input is a string\n",
    "        # Remove special characters, numbers, and extra whitespace\n",
    "        # Remove mentions\n",
    "        text = re.sub(r\"@\\w+\", \"\", text)\n",
    "        # Remove hashtags (but keep the words if desired)\n",
    "        text = re.sub(r\"#\", \"\", text)  # Remove only the '#' symbol\n",
    "        text = re.sub(r'[^a-zA-Z\\s]', '', text)  # Keep only letters and spaces\n",
    "        text = re.sub(r'\\s+', ' ', text)        # Replace multiple spaces with a single space\n",
    "        text = text.strip()                     # Remove leading/trailing spaces\n",
    "    return text"
   ]
  },
  {
   "cell_type": "code",
   "execution_count": 104,
   "id": "f1f88837-83f0-4bae-97ae-93bfaacb5ce8",
   "metadata": {},
   "outputs": [
    {
     "name": "stdout",
     "output_type": "stream",
     "text": [
      "0      .@lawrence @hillaryclinton two first  @senschumer tomorrow. @thelastword #brooklyn  therealamerica #vote #democrats #nastywomenvote #senate\n",
      "1    my @latimesopinion op-ed on historic #california #senate race. first time an elected woman senator succeeds another.\\nhttps://t.co/cbjqtk0q1v\n",
      "2                                        #senate wisconsin senate preview: johnson vs. feingold, the sequel https://t.co/xhq4p0v4el @senronjohnson\n",
      "3           if rubio wins and #trump loses in #florida... #hillaryclinton #senate #republicanprimary #senaterace #miami... https://t.co/zienecvnmo\n",
      "4                                #senate wisconsin senate preview: johnson vs. feingold, the sequel https://t.co/vsd6arfme5 senronjohnson nta•news\n",
      "Name: text, dtype: object\n",
      "                                                                                                           cleaned_text\n",
      "0                                       two first tomorrow brooklyn therealamerica vote democrats nastywomenvote senate\n",
      "1      my oped on historic california senate race first time an elected woman senator succeeds another httpstcocbjqtkqv\n",
      "2                                        senate wisconsin senate preview johnson vs feingold the sequel httpstcoxhqpvel\n",
      "3  if rubio wins and trump loses in florida hillaryclinton senate republicanprimary senaterace miami httpstcozienecvnmo\n",
      "4                 senate wisconsin senate preview johnson vs feingold the sequel httpstcovsdarfme senronjohnson ntanews\n",
      "Example Hillary Tweets:\n",
      "                                                                                                                        cleaned_text\n",
      "26                                           even if hillary wins nothing will change unless the democrats take back the senate vote\n",
      "46                agree the after effect may humble gop even more if can take the senate hillary has shown she can httpstcotcqgofkmv\n",
      "57  politico says democrats are on the brink of taking back the senate lets make it happen voteblue hillary senate house state local\n",
      "60                                                           senate franken hits the road for clinton in minnesota httpstcoevoxvxstw\n",
      "62                                          senate franken hits the road for clinton in minnesota httpstcoixflszav alfranken ntanews\n",
      "\n",
      "Example Trump Tweets:\n",
      "                                                                                                            cleaned_text\n",
      "3   if rubio wins and trump loses in florida hillaryclinton senate republicanprimary senaterace miami httpstcozienecvnmo\n",
      "22     its election day est vote clintonkaine senate democrats bluewave forwardtogether lovetrumpshate httpstcospimpvlyg\n",
      "59                                           senate sessions stumps for trump rises on national stage httpstcoodubhznjzp\n",
      "61                     senate sessions stumps for trump rises on national stage httpstcoddurkpvw senatorsessions ntanews\n",
      "74             wakeupamericatrumpveteranshialeahmiamimakeamericagreatagaintcotmagasenatenytcubabrexit httpstcoylnwlgrqfo\n"
     ]
    }
   ],
   "source": [
    "elections_2016['text'] = elections_2016['text'].str.lower()  # Convert to lowercase\n",
    "print(elections_2016['text'].head())\n",
    "# Apply the cleaning function to the 'text' column\n",
    "elections_2016['cleaned_text'] = elections_2016['text'].apply(clean_text)\n",
    "print(elections_2016[['cleaned_text']].head())\n",
    "# Define specific words to search for\n",
    "specific_words = ['hillary', 'clinton']\n",
    "\n",
    "# Combine the words into a single regular expression pattern\n",
    "pattern = '|'.join(rf'\\b{word}\\b' for word in specific_words)  # Matches whole words only\n",
    "\n",
    "# Filter rows where the cleaned text contains any of the specific words\n",
    "trump_tweets = elections_2016[elections_2016['cleaned_text'].str.contains('trump', case=False, na=False)].copy()\n",
    "hillary_tweets = elections_2016[elections_2016['cleaned_text'].str.contains(pattern, flags=re.IGNORECASE, na=False)].copy()\n",
    "\n",
    "\n",
    "# Save the filtered results\n",
    "#filtered_elections_2016.to_csv('filtered_words2.csv', index=False)\n",
    "\n",
    "# Display example Hillary Tweets\n",
    "print(\"Example Hillary Tweets:\")\n",
    "print(hillary_tweets[['cleaned_text']].head())  # Show the first 5 tweets related to Hillary\n",
    "\n",
    "# Display example Trump Tweets\n",
    "print(\"\\nExample Trump Tweets:\")\n",
    "print(trump_tweets[['cleaned_text']].head())  # Show the first 5 tweets related to Trump\n"
   ]
  },
  {
   "cell_type": "code",
   "execution_count": null,
   "id": "48194e29-c814-4b54-a9db-b5027d026b63",
   "metadata": {
    "scrolled": true
   },
   "outputs": [],
   "source": [
    "#elections_2016['text'] = elections_2016['text'].str.lower()\n",
    "\n",
    "#elections_2016['text'] = elections_2016['text'].astype(str)  # Convert 'text' column to string data type\n",
    "\n",
    "#elections_2016['tokens'] = elections_2016['text'].apply(nltk.word_tokenize)  # Tokenization\n",
    "\n",
    "#elections_2016 = elections_2016.head(100)  # This selects the first 100 rows\n",
    "\n",
    "\n",
    "# Remove stopwords\n",
    "#stopwords = nltk.corpus.stopwords.words('english')\n",
    "#elections_2016['tokens'] = elections_2016['tokens'].apply(lambda x: [word for word in x if word not in stopwords])\n",
    "#elections_2016['text']\n"
   ]
  },
  {
   "cell_type": "code",
   "execution_count": 105,
   "id": "b0773af4-b800-4320-9b77-87703b016dc4",
   "metadata": {},
   "outputs": [],
   "source": [
    "# Analyze sentiment for each row\n",
    "trump_tweets['sentiment_scores'] = trump_tweets['cleaned_text'].apply(lambda x: analyzer.polarity_scores(x))\n",
    "trump_tweets['compound_score'] = trump_tweets['sentiment_scores'].apply(lambda x: x['compound'])\n",
    "trump_tweets['sentiment'] = trump_tweets['compound_score'].apply(\n",
    "    lambda x: \"Positive\" if x > 0.3 else \"Negative\" if x < -0.3 else \"Neutral\"\n",
    ")\n",
    "\n",
    "# Analyze sentiment for each row\n",
    "hillary_tweets['sentiment_scores'] = hillary_tweets['cleaned_text'].apply(lambda x: analyzer.polarity_scores(x))\n",
    "hillary_tweets['compound_score'] = hillary_tweets['sentiment_scores'].apply(lambda x: x['compound'])\n",
    "hillary_tweets['sentiment'] = hillary_tweets['compound_score'].apply(\n",
    "    lambda x: \"Positive\" if x > 0.3 else \"Negative\" if x < -0.3 else \"Neutral\"\n",
    ")\n",
    "\n",
    "# Save the results\n",
    "#trump_tweets.to_csv('trump_sentiment_results.csv', index=False)\n",
    "# Save the results\n",
    "#hillary_tweets.to_csv('hillary_sentiment_results.csv', index=False)"
   ]
  },
  {
   "cell_type": "code",
   "execution_count": 101,
   "id": "1b61da78-185d-4fe8-a6d2-b70329e12606",
   "metadata": {},
   "outputs": [
    {
     "name": "stdout",
     "output_type": "stream",
     "text": [
      "\n",
      "Example Hillary Tweets Sentiment Results:\n",
      "                                                                                                                            cleaned_text  \\\n",
      "26                                               even if hillary wins nothing will change unless the democrats take back the senate vote   \n",
      "46       agree the after effect may humble gop even more if thedemocrats can take the senate hillary has shown she can httpstcotcqgofkmv   \n",
      "57      politico says democrats are on the brink of taking back the senate lets make it happen voteblue hillary senate house state local   \n",
      "60                                                     senate franken hits the road for clinton in minnesota httpstcoevoxvxstw alfranken   \n",
      "62                                              senate franken hits the road for clinton in minnesota httpstcoixflszav alfranken ntanews   \n",
      "65                                            senate sen debbie stabenow fires up gvsu crowd of for clinton httpstcowqryngsr senstabenow   \n",
      "67                                   senate sen debbie stabenow fires up gvsu crowd of for clinton httpstcorblcjswxh senstabenow ntanews   \n",
      "76                         httpstcoghvsykhddp corinthians bible scotus senate congress islam college edu hillary trump httpstcomxuqytsns   \n",
      "81                            dont forget to go vote todayelection trump clinton supremecourt obamacare taxes house senate draintheswamp   \n",
      "83   hey friends its itselectionday lets get something done vote hillary amp dem straight d ok em the senate we cant cong but we can sen   \n",
      "85             lets change the senate dem amp get hillary in the wh lets get something done fostercampbellforlouisiana httpstcopgsbxatum   \n",
      "96                            huffpost forecasts hillary clinton will win with electoral votes senate httpstcocctjkwnd httpstcodipcucjfu   \n",
      "106           reminder we dont have to just stop trump amp his altright despicables we have to give hillary the senate httpstconnrojfeqf   \n",
      "144                                              krauthammer new fbi message will have zero effect on hillary clinton httpstcoxywaghqlor   \n",
      "246                                    if hillary wins we will have the first jewish leader in congress i love jewish leaders just sayin   \n",
      "\n",
      "    sentiment  \n",
      "26   Positive  \n",
      "46   Positive  \n",
      "57    Neutral  \n",
      "60    Neutral  \n",
      "62    Neutral  \n",
      "65    Neutral  \n",
      "67    Neutral  \n",
      "76    Neutral  \n",
      "81   Positive  \n",
      "83   Positive  \n",
      "85    Neutral  \n",
      "96   Positive  \n",
      "106  Negative  \n",
      "144   Neutral  \n",
      "246  Positive  \n"
     ]
    }
   ],
   "source": [
    "pd.set_option('display.max_colwidth', None)\n",
    "\n",
    "print(\"\\nExample Hillary Tweets Sentiment Results:\")\n",
    "print(hillary_tweets[['cleaned_text', 'sentiment']].head(15))  # Display the first 5 rows"
   ]
  },
  {
   "cell_type": "code",
   "execution_count": 102,
   "id": "d0acb805-d92a-4da5-bef9-d77b910c4688",
   "metadata": {},
   "outputs": [
    {
     "name": "stdout",
     "output_type": "stream",
     "text": [
      "\n",
      "Example Trump Tweets Sentiment Results:\n",
      "                                                                                                                    cleaned_text  \\\n",
      "3           if rubio wins and trump loses in florida hillaryclinton senate republicanprimary senaterace miami httpstcozienecvnmo   \n",
      "7                                          shes done america please vote for realdonaldtrump maga for all of us httpstcoznxcbakd   \n",
      "22             its election day est vote clintonkaine senate democrats bluewave forwardtogether lovetrumpshate httpstcospimpvlyg   \n",
      "59                                   senate sessions stumps for trump rises on national stage httpstcoodubhznjzp senatorsessions   \n",
      "61                             senate sessions stumps for trump rises on national stage httpstcoddurkpvw senatorsessions ntanews   \n",
      "71           realdonaldtrump fraud fraud fraud elections are rigged httpstcoaumbuyjv fbi sputnik afp nyt maga httpstcoktymjgmvwx   \n",
      "74                     wakeupamericatrumpveteranshialeahmiamimakeamericagreatagaintcotmagasenatenytcubabrexit httpstcoylnwlgrqfo   \n",
      "76                 httpstcoghvsykhddp corinthians bible scotus senate congress islam college edu hillary trump httpstcomxuqytsns   \n",
      "81                    dont forget to go vote todayelection trump clinton supremecourt obamacare taxes house senate draintheswamp   \n",
      "87            tgowdysc jasonchaffetz realdonaldtrump rednationrising dncleak hillaryforprison worldpeace senate httpstcoeilodjvd   \n",
      "97                            wakeupamericatrumpveteranshialeahmiamidebatesenateflsentcotmagasputniknytcnncuba httpstcofedqfpaju   \n",
      "106   reminder we dont have to just stop trump amp his altright despicables we have to give hillary the senate httpstconnrojfeqf   \n",
      "112    ahead at she blasted him for supporting trump he blasted her for supporting obamacare a look back at the httpstcokuekzupg   \n",
      "143        jkirkjames billkristol my kids are why i am doing this trump wont get better scotus if congress wrecks in the process   \n",
      "170  andymoeller dhopediamond million illegals trump wants term limits for congress thats a great idea for both sides repeal amp   \n",
      "\n",
      "    sentiment  \n",
      "3    Positive  \n",
      "7    Positive  \n",
      "22    Neutral  \n",
      "59    Neutral  \n",
      "61    Neutral  \n",
      "71   Negative  \n",
      "74    Neutral  \n",
      "76    Neutral  \n",
      "81   Positive  \n",
      "87    Neutral  \n",
      "97    Neutral  \n",
      "106  Negative  \n",
      "112  Positive  \n",
      "143  Negative  \n",
      "170  Positive  \n"
     ]
    }
   ],
   "source": [
    "print(\"\\nExample Trump Tweets Sentiment Results:\")\n",
    "print(trump_tweets[['cleaned_text', 'sentiment']].head(15))  # Display the first 5 rows"
   ]
  },
  {
   "cell_type": "code",
   "execution_count": 89,
   "id": "4ba573e6-5769-44f3-bc08-c19882b82ec4",
   "metadata": {},
   "outputs": [
    {
     "ename": "KeyError",
     "evalue": "'sentiment'",
     "output_type": "error",
     "traceback": [
      "\u001b[1;31m---------------------------------------------------------------------------\u001b[0m",
      "\u001b[1;31mKeyError\u001b[0m                                  Traceback (most recent call last)",
      "File \u001b[1;32m~\\Documents\\GitHub\\TNM108\\Project\\venv\\lib\\site-packages\\pandas\\core\\indexes\\base.py:3805\u001b[0m, in \u001b[0;36mIndex.get_loc\u001b[1;34m(self, key)\u001b[0m\n\u001b[0;32m   3804\u001b[0m \u001b[38;5;28;01mtry\u001b[39;00m:\n\u001b[1;32m-> 3805\u001b[0m     \u001b[38;5;28;01mreturn\u001b[39;00m \u001b[38;5;28;43mself\u001b[39;49m\u001b[38;5;241;43m.\u001b[39;49m\u001b[43m_engine\u001b[49m\u001b[38;5;241;43m.\u001b[39;49m\u001b[43mget_loc\u001b[49m\u001b[43m(\u001b[49m\u001b[43mcasted_key\u001b[49m\u001b[43m)\u001b[49m\n\u001b[0;32m   3806\u001b[0m \u001b[38;5;28;01mexcept\u001b[39;00m \u001b[38;5;167;01mKeyError\u001b[39;00m \u001b[38;5;28;01mas\u001b[39;00m err:\n",
      "File \u001b[1;32mindex.pyx:167\u001b[0m, in \u001b[0;36mpandas._libs.index.IndexEngine.get_loc\u001b[1;34m()\u001b[0m\n",
      "File \u001b[1;32mindex.pyx:196\u001b[0m, in \u001b[0;36mpandas._libs.index.IndexEngine.get_loc\u001b[1;34m()\u001b[0m\n",
      "File \u001b[1;32mpandas\\\\_libs\\\\hashtable_class_helper.pxi:7081\u001b[0m, in \u001b[0;36mpandas._libs.hashtable.PyObjectHashTable.get_item\u001b[1;34m()\u001b[0m\n",
      "File \u001b[1;32mpandas\\\\_libs\\\\hashtable_class_helper.pxi:7089\u001b[0m, in \u001b[0;36mpandas._libs.hashtable.PyObjectHashTable.get_item\u001b[1;34m()\u001b[0m\n",
      "\u001b[1;31mKeyError\u001b[0m: 'sentiment'",
      "\nThe above exception was the direct cause of the following exception:\n",
      "\u001b[1;31mKeyError\u001b[0m                                  Traceback (most recent call last)",
      "Cell \u001b[1;32mIn[89], line 2\u001b[0m\n\u001b[0;32m      1\u001b[0m \u001b[38;5;66;03m# Example Positive Tweets\u001b[39;00m\n\u001b[1;32m----> 2\u001b[0m positive_tweets \u001b[38;5;241m=\u001b[39m hillary_tweets[\u001b[43mhillary_tweets\u001b[49m\u001b[43m[\u001b[49m\u001b[38;5;124;43m'\u001b[39;49m\u001b[38;5;124;43msentiment\u001b[39;49m\u001b[38;5;124;43m'\u001b[39;49m\u001b[43m]\u001b[49m \u001b[38;5;241m==\u001b[39m \u001b[38;5;124m'\u001b[39m\u001b[38;5;124mPositive\u001b[39m\u001b[38;5;124m'\u001b[39m]\n\u001b[0;32m      3\u001b[0m \u001b[38;5;28mprint\u001b[39m(\u001b[38;5;124m\"\u001b[39m\u001b[38;5;124mExample Positive Hillary Tweets:\u001b[39m\u001b[38;5;124m\"\u001b[39m)\n\u001b[0;32m      4\u001b[0m \u001b[38;5;28mprint\u001b[39m(positive_tweets[[\u001b[38;5;124m'\u001b[39m\u001b[38;5;124mcleaned_text\u001b[39m\u001b[38;5;124m'\u001b[39m, \u001b[38;5;124m'\u001b[39m\u001b[38;5;124msentiment\u001b[39m\u001b[38;5;124m'\u001b[39m, \u001b[38;5;124m'\u001b[39m\u001b[38;5;124mcompound_score\u001b[39m\u001b[38;5;124m'\u001b[39m]]\u001b[38;5;241m.\u001b[39mhead())  \u001b[38;5;66;03m# Show the first 5 positive tweets\u001b[39;00m\n",
      "File \u001b[1;32m~\\Documents\\GitHub\\TNM108\\Project\\venv\\lib\\site-packages\\pandas\\core\\frame.py:4102\u001b[0m, in \u001b[0;36mDataFrame.__getitem__\u001b[1;34m(self, key)\u001b[0m\n\u001b[0;32m   4100\u001b[0m \u001b[38;5;28;01mif\u001b[39;00m \u001b[38;5;28mself\u001b[39m\u001b[38;5;241m.\u001b[39mcolumns\u001b[38;5;241m.\u001b[39mnlevels \u001b[38;5;241m>\u001b[39m \u001b[38;5;241m1\u001b[39m:\n\u001b[0;32m   4101\u001b[0m     \u001b[38;5;28;01mreturn\u001b[39;00m \u001b[38;5;28mself\u001b[39m\u001b[38;5;241m.\u001b[39m_getitem_multilevel(key)\n\u001b[1;32m-> 4102\u001b[0m indexer \u001b[38;5;241m=\u001b[39m \u001b[38;5;28;43mself\u001b[39;49m\u001b[38;5;241;43m.\u001b[39;49m\u001b[43mcolumns\u001b[49m\u001b[38;5;241;43m.\u001b[39;49m\u001b[43mget_loc\u001b[49m\u001b[43m(\u001b[49m\u001b[43mkey\u001b[49m\u001b[43m)\u001b[49m\n\u001b[0;32m   4103\u001b[0m \u001b[38;5;28;01mif\u001b[39;00m is_integer(indexer):\n\u001b[0;32m   4104\u001b[0m     indexer \u001b[38;5;241m=\u001b[39m [indexer]\n",
      "File \u001b[1;32m~\\Documents\\GitHub\\TNM108\\Project\\venv\\lib\\site-packages\\pandas\\core\\indexes\\base.py:3812\u001b[0m, in \u001b[0;36mIndex.get_loc\u001b[1;34m(self, key)\u001b[0m\n\u001b[0;32m   3807\u001b[0m     \u001b[38;5;28;01mif\u001b[39;00m \u001b[38;5;28misinstance\u001b[39m(casted_key, \u001b[38;5;28mslice\u001b[39m) \u001b[38;5;129;01mor\u001b[39;00m (\n\u001b[0;32m   3808\u001b[0m         \u001b[38;5;28misinstance\u001b[39m(casted_key, abc\u001b[38;5;241m.\u001b[39mIterable)\n\u001b[0;32m   3809\u001b[0m         \u001b[38;5;129;01mand\u001b[39;00m \u001b[38;5;28many\u001b[39m(\u001b[38;5;28misinstance\u001b[39m(x, \u001b[38;5;28mslice\u001b[39m) \u001b[38;5;28;01mfor\u001b[39;00m x \u001b[38;5;129;01min\u001b[39;00m casted_key)\n\u001b[0;32m   3810\u001b[0m     ):\n\u001b[0;32m   3811\u001b[0m         \u001b[38;5;28;01mraise\u001b[39;00m InvalidIndexError(key)\n\u001b[1;32m-> 3812\u001b[0m     \u001b[38;5;28;01mraise\u001b[39;00m \u001b[38;5;167;01mKeyError\u001b[39;00m(key) \u001b[38;5;28;01mfrom\u001b[39;00m \u001b[38;5;21;01merr\u001b[39;00m\n\u001b[0;32m   3813\u001b[0m \u001b[38;5;28;01mexcept\u001b[39;00m \u001b[38;5;167;01mTypeError\u001b[39;00m:\n\u001b[0;32m   3814\u001b[0m     \u001b[38;5;66;03m# If we have a listlike key, _check_indexing_error will raise\u001b[39;00m\n\u001b[0;32m   3815\u001b[0m     \u001b[38;5;66;03m#  InvalidIndexError. Otherwise we fall through and re-raise\u001b[39;00m\n\u001b[0;32m   3816\u001b[0m     \u001b[38;5;66;03m#  the TypeError.\u001b[39;00m\n\u001b[0;32m   3817\u001b[0m     \u001b[38;5;28mself\u001b[39m\u001b[38;5;241m.\u001b[39m_check_indexing_error(key)\n",
      "\u001b[1;31mKeyError\u001b[0m: 'sentiment'"
     ]
    }
   ],
   "source": [
    "# Example Positive Tweets\n",
    "positive_tweets = hillary_tweets[hillary_tweets['sentiment'] == 'Positive']\n",
    "print(\"Example Positive Hillary Tweets:\")\n",
    "print(positive_tweets[['cleaned_text', 'sentiment', 'compound_score']].head())  # Show the first 5 positive tweets\n",
    "\n",
    "# Example Negative Tweets\n",
    "negative_tweets = hillary_tweets[hillary_tweets['sentiment'] == 'Negative']\n",
    "print(\"\\nExample Hillary Negative Tweets:\")\n",
    "print(negative_tweets[['cleaned_text', 'sentiment', 'compound_score']].head())  # Show the first 5 negative tweets\n",
    "\n",
    "# Example Neutral Tweets\n",
    "neutral_tweets = hillary_tweets[hillary_tweets['sentiment'] == 'Neutral']\n",
    "print(\"\\nExample Hillary Neutral Tweets:\")\n",
    "print(neutral_tweets[['cleaned_text', 'sentiment', 'compound_score']].head())  # Show the first 5 neutral tweets\n"
   ]
  },
  {
   "cell_type": "code",
   "execution_count": null,
   "id": "791e4f1f-961d-4375-8416-afcffaed73d8",
   "metadata": {},
   "outputs": [],
   "source": [
    "# Example Positive Tweets\n",
    "positive_tweets = trump_tweets[trump_tweets['sentiment'] == 'Positive']\n",
    "print(\"Example Positive Trump Tweets:\")\n",
    "print(positive_tweets[['cleaned_text', 'sentiment', 'compound_score']].head())  # Show the first 5 positive tweets\n",
    "\n",
    "# Example Negative Tweets\n",
    "negative_tweets = trump_tweets[trump_tweets['sentiment'] == 'Negative']\n",
    "print(\"\\nExample Trump Negative Tweets:\")\n",
    "print(negative_tweets[['cleaned_text', 'sentiment', 'compound_score']].head())  # Show the first 5 negative tweets\n",
    "\n",
    "# Example Neutral Tweets\n",
    "neutral_tweets = trump_tweets[trump_tweets['sentiment'] == 'Neutral']\n",
    "print(\"\\nExample Trump Neutral Tweets:\")\n",
    "print(neutral_tweets[['cleaned_text', 'sentiment', 'compound_score']].head())  # Show the first 5 neutral tweets\n"
   ]
  },
  {
   "cell_type": "code",
   "execution_count": null,
   "id": "9fab94a5-d1ee-458a-aaef-06f9b716ac0b",
   "metadata": {},
   "outputs": [],
   "source": []
  }
 ],
 "metadata": {
  "kernelspec": {
   "display_name": "Python 3 (ipykernel)",
   "language": "python",
   "name": "python3"
  },
  "language_info": {
   "codemirror_mode": {
    "name": "ipython",
    "version": 3
   },
   "file_extension": ".py",
   "mimetype": "text/x-python",
   "name": "python",
   "nbconvert_exporter": "python",
   "pygments_lexer": "ipython3",
   "version": "3.10.0"
  }
 },
 "nbformat": 4,
 "nbformat_minor": 5
}
